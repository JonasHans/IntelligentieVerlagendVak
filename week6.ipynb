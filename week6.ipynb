{
 "cells": [
  {
   "cell_type": "markdown",
   "metadata": {},
   "source": [
    "# Assignment  Practice Text classification with Naive Bayes "
   ]
  },
  {
   "cell_type": "markdown",
   "metadata": {},
   "source": [
    "## Notebook made by   (If not filled in correctly: 0 pts for assignment)\n",
    "\n",
    "__Name(s)__: \n",
    "\n",
    "__Student id(s)__ : \n",
    "\n",
    "### Pledge (taken from [Coursera's Honor Code](https://www.coursera.org/about/terms/honorcode) )\n",
    "\n",
    "\n",
    "\n",
    "Put here a selfie with your photo where you hold a signed paper with the following text: (if this is team work, put two selfies here). The link must be to some place on the web, not to a local file. **Assignments without the selfies will not be graded and receive 0 points.**\n",
    "\n",
    "> My answers to homework, quizzes and exams will be my own work (except for assignments that explicitly permit collaboration).\n",
    "\n",
    ">I will not make solutions to homework, quizzes or exams available to anyone else. This includes both solutions written by me, as well as any official solutions provided by the course staff.\n",
    "\n",
    ">I will not engage in any other activities that will dishonestly improve my results or dishonestly improve/hurt the results of others.\n",
    "\n",
    "<img src='link to your selfie'/>"
   ]
  },
  {
   "cell_type": "markdown",
   "metadata": {},
   "source": [
    "# Practice Text classification with Naive Bayes  \n",
    "        \n",
    "        \n",
    "        \n",
    "<h3>Abstract</h3>\n",
    "<p>We will do text classification on a collection of Dutch parliamentary questions.\n",
    "    The website <a href=\"https://zoek.officielebekendmakingen.nl/zoeken/parlementaire_documenten\">officielebekendmakingen.nl</a>lets you search in \"kamervragen\".\n",
    "    <!--You can donwload\n",
    "    <a href='http://data.politicalmashup.nl/kamervragen/PoliDocs_Kamervragen.zip'>this zipfile with Kamervragen in XML</a>\n",
    "    to see some of the  data in XML format. \n",
    "    It also contains style sheets to show the XML well in a browser.  \n",
    "-->\n",
    "    The <a href='http://maartenmarx.nl/teaching/zoekmachines/LectureNotes/MySQL/'>MYSQL directory</a> contains an <a href='http://maartenmarx.nl/teaching/zoekmachines/LectureNotes/MySQL/KVR14807.xml'>example   Kamervraag XML file</a> and a file `kvr.csv.gz` with 40K kamervragen in a handy csv format. Note that in your browser you see the result of applying stylesheets. So choose View Source or open it in an editor.</p>\n",
    "\n",
    "<h3>First exploration</h3>\n",
    "\n",
    "See below.\n",
    "\n",
    "<h2>Exercises</h2>\n",
    "\n",
    "<p>We will use the fields in elements of the form <tt> &lt;item attribuut=\"Afkomstig_van\"></tt> as our classes. \n",
    "    These are the ministeries to whom the question is addressed.\n",
    "    An example is \n",
    "    <pre>\n",
    "        &lt;item attribuut=\"Afkomstig_van\">Landbouw, Natuurbeheer en Visserij (LNV)&lt;/item>\n",
    "    </pre>\n",
    "    Note that these labels are <strong>not normalized</strong>, see e.g. the counts below:\n",
    "    <pre>\n",
    "Justitie (JUS)                                                   3219\n",
    "Volksgezondheid, Welzijn en Sport (VWS)                          2630\n",
    "Buitenlandse Zaken (BUZA)                                        1796\n",
    "Verkeer en Waterstaat (VW)                                       1441\n",
    "Justitie                                                         1333\n",
    "Sociale Zaken en Werkgelegenheid (SZW)                           1231\n",
    "Onderwijs, Cultuur en Wetenschappen (OCW)                        1187\n",
    "Volkshuisvesting, Ruimtelijke Ordening en Milieubeheer (VROM)     984\n",
    "FinanciÃ«n (FIN)                                                   960\n",
    "Volksgezondheid, Welzijn en Sport                                 951\n",
    "Economische Zaken (EZ)                                            946\n",
    "Buitenlandse Zaken                                                753\n",
    "Binnenlandse Zaken en Koninkrijksrelaties (BZK)                   725\n",
    "Verkeer en Waterstaat                                             724\n",
    "Defensie (DEF)                                                    646\n",
    "Sociale Zaken en Werkgelegenheid                                  607\n",
    "Landbouw, Natuurbeheer en Visserij (LNV)                          586\n",
    "Volkshuisvesting, Ruimtelijke Ordening en Milieubeheer            554\n",
    "Onderwijs, Cultuur en Wetenschappen                               532\n",
    "Vreemdelingenzaken en Integratie (VI)                             466\n",
    "    </pre>\n",
    "</p>\n",
    "\n",
    "<ol>\n",
    "  <li>Normalize the values for \"ministerie\" and choose 10 ministeries to work with. </li>\n",
    "  <li>Implement the two algorithms in Fig MRS.13.2, using your earlier code for creating term and document frequencies.\n",
    "  It might be easier to use the representation and formula given in MRS section 13.4.1.</li>\n",
    "  <li>On this collection, train NB text classifiers for 10 different classes with enough and interesting data.</li>\n",
    "  <li>Compute for each term and each of your 10 classes its utility for that class using mutual information.</li>\n",
    "  <li>For each class, show the top 10 words as in Figure 13.7 in MRS.</li>\n",
    "  <li>Evaluate your classifiers using Precision, Recall and F1. (\n",
    "       <br/>\n",
    "      Give a table in which you show these values for using the top 10, top 100 terms and all terms, for all of your 10 classes.\n",
    "      Thus do feature selection per class, and use for each class the top n best features for that class. \n",
    "      <br/>\n",
    "  Also show the microaverage(s) for all 10 classes together.\n",
    "  <br/>\n",
    "  If you like you can also present this in a figure like MRS.13.8. \n",
    "  Then compute the F1 measure for the same number of terms as in that figure.</li>\n",
    "<li> You have done the complete implementation by yourself. Congratulations! You can also use `scikit-learn` routines for all of this work. Do that. So follow [this text classification tutorial](http://scikit-learn.org/stable/tutorial/text_analytics/working_with_text_data.html)  and implement the same steps but now with your kamervragen dataset. Also use [mutual information feature selection](http://scikit-learn.org/stable/modules/feature_selection.html) to select the K-best features, and compare the results as before.\n",
    "</li>\n",
    "  <li>Reflect and report briefly about your choices in this process and about the obtained results. Also reflect on the differences between the scikit learn approach and the \"own implementation approach\".</li>\n",
    "</ol>\n",
    "\n",
    "<h3>Training/Testing</h3>\n",
    "<p>It is important that you do not test your classifier using documents that have also been used in training.\n",
    "    So split up your collection in a training set and a test set. A 80%-20% split is reasonable.\n",
    "\n",
    "<br/>\n",
    "    If you have too little data you can use 5 or <a href=\"http://en.wikipedia.org/wiki/Cross-validation_(statistics)#k-fold_cross-validation\">10-fold cross validation</a>.</p>\n",
    "\n",
    "<!--\n",
    "<h2>Form of presentation</h2>\n",
    "<ul>\n",
    "    <li>Make slides or wikipages and have your system running (this could just be an IPython notebook with a classify function that accepts any string and classifies it.) ~~and be able to accept documents from the web.~~ </li>\n",
    "    <li>Create one or two slides or wikipages for each of the sub exercises listed above.\n",
    "</li>\n",
    "<li>Make it clear in the heading of the slides which sub exercises you talk about.</li>\n",
    "    <li>Show running code with one or two  good examples (a TP of course, but also a FP and an error-analysis is nice to show). </li>\n",
    "</ul>\n",
    "-->\n",
    "\n",
    "<h2>Form of handing in your final product</h2>\n",
    "\n",
    "* An IPython notebook with for each question, a MarkDown cell containing the question, a code cell which solves the question, an output cell with the output, followed by a MarkDown cell with explanation/reflection  "
   ]
  },
  {
   "cell_type": "markdown",
   "metadata": {},
   "source": [
    "### Assignment steps\n",
    "\n",
    "#### 1 Normalize\n",
    "* Everything to lowercase\n",
    "* Remove shorthand, add stemming for shorthand (ez -> economische zaken)\n",
    "* Add one smoothin\n",
    "\n",
    "#### 2 Implementation Tf and Df\n",
    "* Split data into 'test' and 'training'\n",
    "* Create data structure for terms and doc frequencies\n",
    "* Create NB classifier function\n",
    "\n",
    "#### 3 Training NB\n",
    "* Train NB with 10 classes\n",
    "\n",
    "#### 4 Mutual information\n",
    "* Compute the utility for the 10 classes"
   ]
  },
  {
   "cell_type": "code",
   "execution_count": 22,
   "metadata": {
    "scrolled": false
   },
   "outputs": [
    {
     "name": "stdout",
     "output_type": "stream",
     "text": [
      "Reading in file\n",
      "Finished reading file in:  0.27541112899780273\n",
      "KVR1000.xml                                  Verkeer en Waterstaat\n",
      " KVR10000.xml                                             Justitie\n",
      " KVR10001.xml                                            Financien\n",
      " KVR10002.xml                    Volksgezondheid, Welzijn en Sport\n",
      " KVR10003.xml                                Verkeer en Waterstaat\n",
      " KVR10004.xml                                Verkeer en Waterstaat\n",
      " KVR10006.xml                                             Defensie\n",
      " KVR10007.xml                    Volksgezondheid, Welzijn en Sport\n",
      " KVR10008.xml              Volksgezondheid, Welzijn en Sport (VWS)\n",
      " KVR10009.xml              Volksgezondheid, Welzijn en Sport (VWS)\n",
      " KVR1001.xml                    Landbouw, Natuurbeheer en Visserij\n",
      " KVR10010.xml              Volksgezondheid, Welzijn en Sport (VWS)\n",
      " KVR10011.xml                    Volksgezondheid, Welzijn en Sport\n",
      " KVR10013.xml                                                  NaN\n",
      " KVR10014.xml                                                  NaN\n",
      " KVR10016.xml                                            Financien\n",
      " KVR10017.xml                                             Justitie\n",
      " KVR10018.xml                                Verkeer en Waterstaat\n",
      " KVR10019.xml                   Landbouw, Natuurbeheer en Visserij\n",
      " KVR1002.xml                                    Buitenlandse Zaken\n",
      " KVR10020.xml                    Volksgezondheid, Welzijn en Sport\n",
      " KVR10021.xml                                             Justitie\n",
      " KVR10023.xml                                    Economische Zaken\n",
      " KVR10024.xml                                                  NaN\n",
      " KVR10025.xml                                Verkeer en Waterstaat\n",
      " KVR10027.xml                    Volksgezondheid, Welzijn en Sport\n",
      " KVR1003.xml                                    Buitenlandse Zaken\n",
      " KVR10031.xml     Volkshuisvesting, Ruimtelijke Ordening en Mil...\n",
      " KVR10032.xml                                  Algemene Zaken (AZ)\n",
      " KVR10033.xml                                  Algemene Zaken (AZ)\n",
      "                                       ...                        \n",
      " KVR11138.xml                    Volksgezondheid, Welzijn en Sport\n",
      " KVR11139.xml                    Volksgezondheid, Welzijn en Sport\n",
      " KVR1114.xml                   Onderwijs, Cultuur en Wetenschappen\n",
      " KVR11140.xml                    Volksgezondheid, Welzijn en Sport\n",
      " KVR11141.xml                     Sociale Zaken en Werkgelegenheid\n",
      " KVR11143.xml                  Onderwijs, Cultuur en Wetenschappen\n",
      " KVR11145.xml            Binnenlandse Zaken en Koninkrijksrelaties\n",
      " KVR11148.xml                                   Buitenlandse Zaken\n",
      " KVR1115.xml                                 Verkeer en Waterstaat\n",
      " KVR11151.xml                                   Buitenlandse Zaken\n",
      " KVR11152.xml                                Verkeer en Waterstaat\n",
      " KVR11153.xml                   Landbouw, Natuurbeheer en Visserij\n",
      " KVR11158.xml     Volkshuisvesting, Ruimtelijke Ordening en Mil...\n",
      " KVR11159.xml     Volkshuisvesting, Ruimtelijke Ordening en Mil...\n",
      " KVR1116.xml                    Landbouw, Natuurbeheer en Visserij\n",
      " KVR11162.xml                                             Justitie\n",
      " KVR11163.xml                                             Justitie\n",
      " KVR11165.xml                    Volksgezondheid, Welzijn en Sport\n",
      " KVR11166.xml                                             Justitie\n",
      " KVR11167.xml                                             Justitie\n",
      " KVR11169.xml                  Onderwijs, Cultuur en Wetenschappen\n",
      " KVR1117.xml                            Verkeer en Waterstaat (VW)\n",
      " KVR11170.xml             Landbouw, Natuurbeheer en Visserij (LNV)\n",
      " KVR11171.xml                  Onderwijs, Cultuur en Wetenschappen\n",
      " KVR11172.xml                     Sociale Zaken en Werkgelegenheid\n",
      " KVR11173.xml                                             Justitie\n",
      " KVR11174.xml                                            Financiën\n",
      " KVR11175.xml     Onderwijs, Cultuur en Wetenschappen Binnenlan...\n",
      " KVR11176.xml                                             Justitie\n",
      " KVR11178.xml                  Onderwijs, Cultuur en Wetenschappen\n",
      "Name: ministerie, Length: 1000, dtype: object\n"
     ]
    }
   ],
   "source": [
    "from collections import defaultdict\n",
    "from collections import Counter\n",
    "import nltk\n",
    "import math\n",
    "import csv\n",
    "from __future__ import division\n",
    "import pandas as pd\n",
    "import time\n",
    "\n",
    "_names=['jaar', 'partij','titel','vraag','antwoord','ministerie']\n",
    "\n",
    "_index_dataset = {\n",
    "    'terms' : {},\n",
    "    'classes': {}\n",
    "}\n",
    "\n",
    "def info_dataset(infile):\n",
    "    with open(infile, 'r') as csvfile:  # open file\n",
    "        csvreader = csv.reader(csvfile, delimiter='\\t', quotechar='|')\n",
    "        \n",
    "        info = {}\n",
    "        \n",
    "        # Go through all kvr's\n",
    "        for kvr in csvreader:\n",
    "            if len(kvr) in info:\n",
    "                info[len(kvr)] += 1\n",
    "            else:\n",
    "                info[len(kvr)] = 1\n",
    "        \n",
    "        print(info)\n",
    "    \n",
    "def index_dataset():\n",
    "    print('Reading in file')\n",
    "    tic = time.time()\n",
    "    \n",
    "    # Read CSV file\n",
    "    kvrdf = pd.read_csv('http://maartenmarx.nl/teaching/zoekmachines/LectureNotes/MySQL/KVR1000.csv.gz', \n",
    "                   compression='gzip', sep='\\t', \n",
    "                   index_col=0, names=_names,\n",
    "                      )\n",
    "    \n",
    "    print('Finished reading file in: ', time.time() - tic)\n",
    "    \n",
    "    \n",
    "    print(kvrdf.ministerie)\n",
    " \n",
    "index_dataset()"
   ]
  },
  {
   "cell_type": "code",
   "execution_count": 14,
   "metadata": {
    "scrolled": true
   },
   "outputs": [
    {
     "data": {
      "text/plain": [
       "{'classes': {}, 'terms': {}}"
      ]
     },
     "execution_count": 14,
     "metadata": {},
     "output_type": "execute_result"
    }
   ],
   "source": []
  },
  {
   "cell_type": "markdown",
   "metadata": {},
   "source": [
    "# Some example code"
   ]
  },
  {
   "cell_type": "code",
   "execution_count": 1,
   "metadata": {},
   "outputs": [
    {
     "name": "stdout",
     "output_type": "stream",
     "text": [
      "(40516, 6)\n"
     ]
    },
    {
     "data": {
      "text/html": [
       "<div>\n",
       "<style scoped>\n",
       "    .dataframe tbody tr th:only-of-type {\n",
       "        vertical-align: middle;\n",
       "    }\n",
       "\n",
       "    .dataframe tbody tr th {\n",
       "        vertical-align: top;\n",
       "    }\n",
       "\n",
       "    .dataframe thead th {\n",
       "        text-align: right;\n",
       "    }\n",
       "</style>\n",
       "<table border=\"1\" class=\"dataframe\">\n",
       "  <thead>\n",
       "    <tr style=\"text-align: right;\">\n",
       "      <th></th>\n",
       "      <th>jaar</th>\n",
       "      <th>partij</th>\n",
       "      <th>titel</th>\n",
       "      <th>vraag</th>\n",
       "      <th>antwoord</th>\n",
       "      <th>ministerie</th>\n",
       "    </tr>\n",
       "  </thead>\n",
       "  <tbody>\n",
       "    <tr>\n",
       "      <th>KVR1000.xml</th>\n",
       "      <td>1994</td>\n",
       "      <td>PvdA</td>\n",
       "      <td>De vragen betreffen de betrouwbaarheid van de...</td>\n",
       "      <td>Hebt u kennisgenomen van het televisieprogram...</td>\n",
       "      <td>Ja. Het bedoelde geluidmeetpunt is eigendom v...</td>\n",
       "      <td>Verkeer en Waterstaat</td>\n",
       "    </tr>\n",
       "    <tr>\n",
       "      <th>KVR10000.xml</th>\n",
       "      <td>1999</td>\n",
       "      <td>PvdA</td>\n",
       "      <td>Vragen naar aanleiding van berichten (uitzend...</td>\n",
       "      <td>Kent u de berichten over de situatie in de Me...</td>\n",
       "      <td></td>\n",
       "      <td>Justitie</td>\n",
       "    </tr>\n",
       "    <tr>\n",
       "      <th>KVR10001.xml</th>\n",
       "      <td>1999</td>\n",
       "      <td>SP</td>\n",
       "      <td>Vragen naar aanleiding van de berichten \"Nede...</td>\n",
       "      <td>Kent u de berichten «Nederland steunt de Soeh...</td>\n",
       "      <td></td>\n",
       "      <td>Financien</td>\n",
       "    </tr>\n",
       "    <tr>\n",
       "      <th>KVR10002.xml</th>\n",
       "      <td>1999</td>\n",
       "      <td>PvdA</td>\n",
       "      <td>Vragen over de gebrekkige opvang van verpleeg...</td>\n",
       "      <td>Kent u het bericht over onderzoek van Nu91 me...</td>\n",
       "      <td>Ja. Het onderzoek van NU’91 wijst uit dat het...</td>\n",
       "      <td>Volksgezondheid, Welzijn en Sport</td>\n",
       "    </tr>\n",
       "    <tr>\n",
       "      <th>KVR10003.xml</th>\n",
       "      <td>1999</td>\n",
       "      <td>PvdA</td>\n",
       "      <td>Vragen over onbetrouwbaarheid van filemeldingen.</td>\n",
       "      <td>Hebt u kennisgenomen van de berichten over de...</td>\n",
       "      <td>Ja. Nee. Door de waarnemers van het Algemeen ...</td>\n",
       "      <td>Verkeer en Waterstaat</td>\n",
       "    </tr>\n",
       "  </tbody>\n",
       "</table>\n",
       "</div>"
      ],
      "text/plain": [
       "                jaar partij  \\\n",
       "KVR1000.xml     1994   PvdA   \n",
       " KVR10000.xml   1999   PvdA   \n",
       " KVR10001.xml   1999     SP   \n",
       " KVR10002.xml   1999   PvdA   \n",
       " KVR10003.xml   1999   PvdA   \n",
       "\n",
       "                                                           titel  \\\n",
       "KVR1000.xml     De vragen betreffen de betrouwbaarheid van de...   \n",
       " KVR10000.xml   Vragen naar aanleiding van berichten (uitzend...   \n",
       " KVR10001.xml   Vragen naar aanleiding van de berichten \"Nede...   \n",
       " KVR10002.xml   Vragen over de gebrekkige opvang van verpleeg...   \n",
       " KVR10003.xml   Vragen over onbetrouwbaarheid van filemeldingen.   \n",
       "\n",
       "                                                           vraag  \\\n",
       "KVR1000.xml     Hebt u kennisgenomen van het televisieprogram...   \n",
       " KVR10000.xml   Kent u de berichten over de situatie in de Me...   \n",
       " KVR10001.xml   Kent u de berichten «Nederland steunt de Soeh...   \n",
       " KVR10002.xml   Kent u het bericht over onderzoek van Nu91 me...   \n",
       " KVR10003.xml   Hebt u kennisgenomen van de berichten over de...   \n",
       "\n",
       "                                                        antwoord  \\\n",
       "KVR1000.xml     Ja. Het bedoelde geluidmeetpunt is eigendom v...   \n",
       " KVR10000.xml                                                      \n",
       " KVR10001.xml                                                      \n",
       " KVR10002.xml   Ja. Het onderzoek van NU’91 wijst uit dat het...   \n",
       " KVR10003.xml   Ja. Nee. Door de waarnemers van het Algemeen ...   \n",
       "\n",
       "                                       ministerie  \n",
       "KVR1000.xml                 Verkeer en Waterstaat  \n",
       " KVR10000.xml                            Justitie  \n",
       " KVR10001.xml                           Financien  \n",
       " KVR10002.xml   Volksgezondheid, Welzijn en Sport  \n",
       " KVR10003.xml               Verkeer en Waterstaat  "
      ]
     },
     "execution_count": 1,
     "metadata": {},
     "output_type": "execute_result"
    }
   ],
   "source": [
    "import pandas as pd\n",
    "\n",
    "names=['jaar', 'partij','titel','vraag','antwoord','ministerie']\n",
    "\n",
    "# Change to KVR1000.csv.gz if this becomes to0 slow for you\n",
    "kvrdf= pd.read_csv('http://maartenmarx.nl/teaching/zoekmachines/LectureNotes/MySQL/KVR.csv.gz', \n",
    "                   compression='gzip', sep='\\t', \n",
    "                   index_col=0, names=names,\n",
    "                   ) \n",
    "\n",
    "for kolom in names[1:]:\n",
    "    kvrdf[kolom]= kvrdf[kolom].astype(str)\n",
    "print(kvrdf.shape)\n",
    "kvrdf.head()"
   ]
  },
  {
   "cell_type": "code",
   "execution_count": 21,
   "metadata": {},
   "outputs": [],
   "source": [
    "# want to know how this works?\n",
    "pd.read_csv?"
   ]
  },
  {
   "cell_type": "code",
   "execution_count": 3,
   "metadata": {},
   "outputs": [
    {
     "data": {
      "text/plain": [
       " Justitie (JUS)                                                   3219\n",
       " Volksgezondheid, Welzijn en Sport (VWS)                          2630\n",
       " Buitenlandse Zaken (BUZA)                                        1796\n",
       " Verkeer en Waterstaat (VW)                                       1441\n",
       " Justitie                                                         1333\n",
       " Sociale Zaken en Werkgelegenheid (SZW)                           1231\n",
       " Onderwijs, Cultuur en Wetenschappen (OCW)                        1187\n",
       " Volkshuisvesting, Ruimtelijke Ordening en Milieubeheer (VROM)     984\n",
       " Financiën (FIN)                                                   960\n",
       " Volksgezondheid, Welzijn en Sport                                 951\n",
       " Economische Zaken (EZ)                                            946\n",
       " Buitenlandse Zaken                                                753\n",
       " Binnenlandse Zaken en Koninkrijksrelaties (BZK)                   725\n",
       " Verkeer en Waterstaat                                             724\n",
       " Defensie (DEF)                                                    646\n",
       " Sociale Zaken en Werkgelegenheid                                  607\n",
       " Landbouw, Natuurbeheer en Visserij (LNV)                          586\n",
       " Volkshuisvesting, Ruimtelijke Ordening en Milieubeheer            554\n",
       " Onderwijs, Cultuur en Wetenschappen                               532\n",
       " Vreemdelingenzaken en Integratie (VI)                             466\n",
       "Name: ministerie, dtype: int64"
      ]
     },
     "execution_count": 3,
     "metadata": {},
     "output_type": "execute_result"
    }
   ],
   "source": [
    "kvrdf.ministerie.value_counts().head(20)"
   ]
  },
  {
   "cell_type": "code",
   "execution_count": 11,
   "metadata": {},
   "outputs": [
    {
     "name": "stdout",
     "output_type": "stream",
     "text": [
      "10303543  De vragen betreffen de betrouwbaarheid van de geluidsmetingen op Schiphol.\n",
      " Vragen naar aanleiding van berichten (uitzending NOVA 17 juli 1999) over onderzoeken van de Rijksrecherche waaruit blijt dat er twijfels bestaan over het professioneel gedrag van vier medewerkers van de kliniek.\n",
      " Vragen naar aanleiding van de berichten \"Nederland steunt Soeharto''s fiscaal\" en \"Wij hebben een naam hoog te houden\" in NRC van 22 juli 1999.\n",
      " Vragen over de gebrekkige opvang van verpleegkundigen met traumatische ervaringen door ziekenhuizen en zorginstellingen.\n",
      " Vragen over onbetrouwbaarheid van filemeldingen.\n",
      " Vragen naar aanleiding van het bericht in de Volkskrant van 7 juli 1999 dat het RIVM onjuiste gegevens zou hebben gehanteerd en gepresenteerd wat betreft de milieuaspecten van de Betuwelijn.\n",
      " \n",
      " Vragen naar aanleiding van het artikel ''Eilander artsen vechten voor waarneming'' in de Leeuwarder Courant van 26 juni 1999. Deze vragen dienen ter aanvulling op eerdere vragen van de leden Van Bler\n"
     ]
    }
   ],
   "source": [
    "import nltk\n",
    "from collections import Counter\n",
    "\n",
    "# Join all titels of the questions together\n",
    "allvragen= '\\n'.join(list(kvrdf.titel))\n",
    "print(len(allvragen), allvragen[:1000])"
   ]
  },
  {
   "cell_type": "code",
   "execution_count": 19,
   "metadata": {},
   "outputs": [
    {
     "name": "stdout",
     "output_type": "stream",
     "text": [
      "70884\n"
     ]
    },
    {
     "data": {
      "text/plain": [
       "[('de', 111769),\n",
       " ('van', 100146),\n",
       " ('.', 52190),\n",
       " ('het', 50507),\n",
       " (',', 49262),\n",
       " ('in', 37339),\n",
       " ('en', 30990),\n",
       " ('vragen', 28793),\n",
       " ('een', 27585),\n",
       " ('over', 22875),\n",
       " ('op', 19934),\n",
       " ('dat', 18670),\n",
       " (')', 17990),\n",
       " ('(', 17941),\n",
       " ('te', 17461),\n",
       " ('naar', 16990),\n",
       " ('voor', 15478),\n",
       " ('?', 15057),\n",
       " ('is', 13586),\n",
       " ('aanleiding', 12082)]"
      ]
     },
     "execution_count": 19,
     "metadata": {},
     "output_type": "execute_result"
    }
   ],
   "source": [
    "# Tokenize, lowercase  and turn into a bag of words\n",
    "BoW= Counter(nltk.word_tokenize(allvragen.lower()))\n",
    "print(len(BoW))\n",
    "# show the top 20 most used words \n",
    "BoW.most_common(20)"
   ]
  },
  {
   "cell_type": "code",
   "execution_count": 20,
   "metadata": {},
   "outputs": [
    {
     "name": "stdout",
     "output_type": "stream",
     "text": [
      "101\n",
      "51813\n"
     ]
    },
    {
     "data": {
      "text/plain": [
       "[('vragen', 28793),\n",
       " ('aanleiding', 12082),\n",
       " ('minister', 4666),\n",
       " ('bericht', 4557),\n",
       " ('artikel', 3296),\n",
       " ('nederlandse', 3129),\n",
       " ('indiener', 3124),\n",
       " ('nederland', 2985),\n",
       " ('welke', 2932),\n",
       " ('nr', 2778),\n",
       " ('eerdere', 2663),\n",
       " ('betreft', 2519),\n",
       " ('ingezonden', 2491),\n",
       " ('ter', 2196),\n",
       " ('ten', 2188),\n",
       " ('onderzoek', 2163),\n",
       " ('handelingen', 2078),\n",
       " ('lid', 2027),\n",
       " ('aanvulling', 1934),\n",
       " ('waarin', 1880)]"
      ]
     },
     "execution_count": 20,
     "metadata": {},
     "output_type": "execute_result"
    }
   ],
   "source": [
    "# remove stopwords, and tokens containing punctuation or numbers (note also removes \"u2\", \"can't\", etc)\n",
    "from nltk.corpus import stopwords\n",
    "DutchStop= stopwords.words('dutch')\n",
    "print(len(DutchStop))\n",
    "\n",
    "BoW=  Counter([w for w in nltk.word_tokenize(allvragen.lower()) if w.isalpha() and not w in set(DutchStop)])\n",
    "print(len(BoW))\n",
    "# show the top 20 most used words \n",
    "BoW.most_common(20)"
   ]
  },
  {
   "cell_type": "code",
   "execution_count": 13,
   "metadata": {},
   "outputs": [],
   "source": [
    "# how many words occur just once?\n",
    "# how many occur at least 5 times?"
   ]
  }
 ],
 "metadata": {
  "kernelspec": {
   "display_name": "Python 3",
   "language": "python",
   "name": "python3"
  },
  "language_info": {
   "codemirror_mode": {
    "name": "ipython",
    "version": 3
   },
   "file_extension": ".py",
   "mimetype": "text/x-python",
   "name": "python",
   "nbconvert_exporter": "python",
   "pygments_lexer": "ipython3",
   "version": "3.5.2"
  }
 },
 "nbformat": 4,
 "nbformat_minor": 1
}
